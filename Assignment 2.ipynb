{
  "nbformat": 4,
  "nbformat_minor": 0,
  "metadata": {
    "colab": {
      "name": "Untitled1.ipynb",
      "provenance": [],
      "collapsed_sections": []
    },
    "kernelspec": {
      "name": "python3",
      "display_name": "Python 3"
    }
  },
  "cells": [
    {
      "cell_type": "markdown",
      "metadata": {
        "id": "KbJOstF1fDxB",
        "colab_type": "text"
      },
      "source": [
        "Importing required libraries"
      ]
    },
    {
      "cell_type": "code",
      "metadata": {
        "id": "Xyb1xBitFZTg",
        "colab_type": "code",
        "colab": {}
      },
      "source": [
        "import numpy as np\n",
        "import os\n",
        "import pickle\n",
        "import matplotlib.pyplot as plt"
      ],
      "execution_count": 0,
      "outputs": []
    },
    {
      "cell_type": "markdown",
      "metadata": {
        "id": "U62NcbySFghI",
        "colab_type": "text"
      },
      "source": [
        "Function to load data from cifar10"
      ]
    },
    {
      "cell_type": "code",
      "metadata": {
        "id": "DFMhXL6VFhCO",
        "colab_type": "code",
        "colab": {}
      },
      "source": [
        "def loadData(path='./data/cifar-10-batches-py/'):\n",
        "    listOfTestFiles = os.listdir(path=path)\n",
        "    train = []\n",
        "    train_labels = []\n",
        "    test = []\n",
        "    test_labels = []\n",
        "        \n",
        "        \n",
        "    print(\"Training files = \",listOfTestFiles[1:7])\n",
        "    #For collecting Training data:\n",
        "    for file in listOfTestFiles[1:6]:\n",
        "        if(file!='.ipynb_checkpoints'):\n",
        "            with open(path+file,'rb') as fo:\n",
        "                data_dict = pickle.load(fo,encoding='bytes')\n",
        "                train.append(data_dict[b'data'])\n",
        "                train_labels.append(data_dict[b'labels'])\n",
        "\n",
        "    #print(listOfTestFiles[7])\n",
        "    #for collecting Testing data\n",
        "    with open(path+'test_batch','rb') as fo:\n",
        "            data_dict = pickle.load(fo,encoding='bytes')\n",
        "            test.append(data_dict[b'data'])\n",
        "            test_labels.append(data_dict[b'labels'])\n",
        "\n",
        "    dictData = {}\n",
        "    dictData['train_data'] = np.reshape(np.array(train),newshape=(np.array(train).shape[0]*np.array(train).shape[1],np.array(train).shape[2]))\n",
        "    dictData['train_labels'] = np.reshape(np.array(train_labels),newshape=(np.array(train_labels).shape[0]*np.array(train_labels).shape[1]))\n",
        "    dictData['test_data'] = np.reshape(np.array(test),newshape=(np.array(test).shape[0]*np.array(test).shape[1],np.array(test).shape[2]))\n",
        "    dictData['test_labels'] = np.reshape(np.array(test_labels),newshape=(np.array(test_labels).shape[0]*np.array(test_labels).shape[1]))\n",
        "    return dictData"
      ],
      "execution_count": 0,
      "outputs": []
    },
    {
      "cell_type": "markdown",
      "metadata": {
        "id": "UuWlaKCFFi5i",
        "colab_type": "text"
      },
      "source": [
        "Visualizaing train sample"
      ]
    },
    {
      "cell_type": "code",
      "metadata": {
        "id": "Awi16gDVFjTK",
        "colab_type": "code",
        "colab": {
          "base_uri": "https://localhost:8080/",
          "height": 304
        },
        "outputId": "061366ea-4f71-4153-feaa-c46b86aba5d1"
      },
      "source": [
        "dataset = loadData();\n",
        "\n",
        "temp = dataset['test_data'][45]\n",
        "\n",
        "R = temp[0:1024].reshape(32,32)\n",
        "G = np.reshape(temp[1024:2048],newshape=(32,32))\n",
        "B = np.reshape(temp[2048:],newshape=(32,32))\n",
        "temp = np.dstack((R,G,B))\n",
        "plt.imshow(temp)\n",
        "plt.show()"
      ],
      "execution_count": 85,
      "outputs": [
        {
          "output_type": "stream",
          "text": [
            "Training files =  ['data_batch_3', 'data_batch_2', '.ipynb_checkpoints', 'test_batch', 'data_batch_4', 'data_batch_1']\n"
          ],
          "name": "stdout"
        },
        {
          "output_type": "display_data",
          "data": {
            "image/png": "[encoded data removed]",
            "text/plain": [
              "<Figure size 432x288 with 1 Axes>"
            ]
          },
          "metadata": {
            "tags": []
          }
        }
      ]
    },
    {
      "cell_type": "markdown",
      "metadata": {
        "id": "eWfszgNqFlcw",
        "colab_type": "text"
      },
      "source": [
        "Getting test data from dataset"
      ]
    },
    {
      "cell_type": "code",
      "metadata": {
        "id": "Ukuoibe9Fl8x",
        "colab_type": "code",
        "colab": {}
      },
      "source": [
        "x_train,y_train, x_test, y_test = dataset['train_data'],dataset['train_labels'],dataset['test_data'],dataset['test_labels']"
      ],
      "execution_count": 0,
      "outputs": []
    },
    {
      "cell_type": "markdown",
      "metadata": {
        "id": "-NcDYlQMFpCS",
        "colab_type": "text"
      },
      "source": [
        "Summarizing training data to 4000 and testing data to 1000"
      ]
    },
    {
      "cell_type": "code",
      "metadata": {
        "id": "O3dRE4UzFpcn",
        "colab_type": "code",
        "colab": {
          "base_uri": "https://localhost:8080/",
          "height": 90
        },
        "outputId": "75616052-61d7-4215-921e-bee620b4db98"
      },
      "source": [
        "train_x,train_y = x_train[0:4000],y_train[0:4000]\n",
        "val_x, val_y = x_train[0:1000],y_train[0:1000]"
      ],
      "execution_count": 82,
      "outputs": [
        {
          "output_type": "stream",
          "text": [
            "Shape is  (10000, 3072)\n",
            "Shape is  (10000,)\n",
            "No. of training samples =  4000\n",
            "No. of validation set samples =  1000\n"
          ],
          "name": "stdout"
        }
      ]
    },
    {
      "cell_type": "markdown",
      "metadata": {
        "id": "QdtLxtQeFxPl",
        "colab_type": "text"
      },
      "source": [
        "Class and Functions for KNN"
      ]
    },
    {
      "cell_type": "code",
      "metadata": {
        "id": "juOBiusaFx07",
        "colab_type": "code",
        "colab": {}
      },
      "source": [
        "class kNearestNeighbour(object):\n",
        "    def __init__(self):\n",
        "        pass\n",
        "    \n",
        "    def train(self,X,Y):\n",
        "        #Knn will remember all of its training data\n",
        "        self.Xtr = X\n",
        "        self.Ytr = Y\n",
        "        \n",
        "    def predict(self,X,k):\n",
        "        #to get no. of samples in train set \n",
        "        test_samples = X.shape[0]\n",
        "        \n",
        "        Ypred = np.zeros(test_samples,dtype=self.Ytr.dtype)\n",
        "        \n",
        "        #Calculating the l1 distance between current samples of test and train set\n",
        "        for i in range(test_samples):\n",
        "            print(\"Test example = \",i,end=\"\\r\")\n",
        "            \n",
        "            #label_count is array of zeros used to store the count for each class while comparing neighbours\n",
        "            label_count = np.zeros(10,dtype=self.Ytr.dtype)    \n",
        "            \n",
        "            dist = np.sum(np.abs(X[i,:] - self.Xtr),axis=1)   #take the absolute sum horizontally across columns\n",
        "            \n",
        "            #idx will contain k smallest indices at the start of the list\n",
        "            #this is called partial sorting\n",
        "            #min_ind will help us to slice through k indices which have minimum distance\n",
        "            idx = np.argpartition(dist,k)\n",
        "            min_ind = idx[:k]\n",
        "            \n",
        "            #This for loop iterates over min_ind and find the label present in train-set_Y for x\n",
        "            #and increase the count at that particular index whenever any label is repeated.\n",
        "            #Max value at any index is returned using np.argmax() and stored at ith index of Ypred i.e. predicted values\n",
        "            for x in min_ind:\n",
        "                label_count[int(self.Ytr[x])] +=1\n",
        "            Ypred[i] = np.argmax(label_count)\n",
        "    \n",
        "    \n",
        "        return Ypred"
      ],
      "execution_count": 0,
      "outputs": []
    },
    {
      "cell_type": "markdown",
      "metadata": {
        "id": "Me2LWGzzi3pv",
        "colab_type": "text"
      },
      "source": [
        "Checking accuracy for K = 3"
      ]
    },
    {
      "cell_type": "code",
      "metadata": {
        "id": "CnDWmNL6Kqi9",
        "colab_type": "code",
        "colab": {
          "base_uri": "https://localhost:8080/",
          "height": 35
        },
        "outputId": "7f9e09cb-455e-4899-8043-218ba80d8bc1"
      },
      "source": [
        "#hyper-parameter k = 5\n",
        "knn = kNearestNeighbour()\n",
        "knn.train(train_x,train_y)\n",
        "val_y_pred = knn.predict(val_x,3)\n",
        "\n",
        "#Accuracy for validation set\n",
        "print('Val accuracy = ',np.mean(val_y_pred==val_y))"
      ],
      "execution_count": 83,
      "outputs": [
        {
          "output_type": "stream",
          "text": [
            "Val accuracy =  0.469\n"
          ],
          "name": "stdout"
        }
      ]
    },
    {
      "cell_type": "markdown",
      "metadata": {
        "id": "XHqPU8qai8Qy",
        "colab_type": "text"
      },
      "source": [
        "Checking accuracy for K = 5"
      ]
    },
    {
      "cell_type": "code",
      "metadata": {
        "id": "shFoDb3QKsCH",
        "colab_type": "code",
        "colab": {
          "base_uri": "https://localhost:8080/",
          "height": 35
        },
        "outputId": "82b966bd-7c14-4115-c7d2-4e9da01279c3"
      },
      "source": [
        "#hyper-parameter k = 5\n",
        "\n",
        "val_y_pred = knn.predict(val_x,5)\n",
        "\n",
        "print('Val accuracy = ',np.mean(val_y_pred==val_y))"
      ],
      "execution_count": 84,
      "outputs": [
        {
          "output_type": "stream",
          "text": [
            "Val accuracy =  0.428\n"
          ],
          "name": "stdout"
        }
      ]
    },
    {
      "cell_type": "markdown",
      "metadata": {
        "id": "2J70RrRgjDJW",
        "colab_type": "text"
      },
      "source": [
        "Checking accuracy for K = 7"
      ]
    },
    {
      "cell_type": "code",
      "metadata": {
        "id": "NclcpojQKuIA",
        "colab_type": "code",
        "colab": {
          "base_uri": "https://localhost:8080/",
          "height": 35
        },
        "outputId": "b28697da-0fdd-4378-dfdc-176639031659"
      },
      "source": [
        "#hyper-parameter k = 7\n",
        "\n",
        "val_y_pred = knn.predict(val_x,7)\n",
        "\n",
        "print('Val accuracy = ',np.mean(val_y_pred==val_y))"
      ],
      "execution_count": 86,
      "outputs": [
        {
          "output_type": "stream",
          "text": [
            "Val accuracy =  0.409\n"
          ],
          "name": "stdout"
        }
      ]
    },
    {
      "cell_type": "markdown",
      "metadata": {
        "id": "est0i0AvjE8M",
        "colab_type": "text"
      },
      "source": [
        "Checking accuracy for K = 9"
      ]
    },
    {
      "cell_type": "code",
      "metadata": {
        "id": "iuwcEJQ_KwkQ",
        "colab_type": "code",
        "colab": {
          "base_uri": "https://localhost:8080/",
          "height": 35
        },
        "outputId": "9d851a8c-095f-488c-ce16-7935c78a2bbd"
      },
      "source": [
        "#hyper-parameter k = 9\n",
        "\n",
        "val_y_pred = knn.predict(val_x,9)\n",
        "\n",
        "print('Val accuracy = ',np.mean(val_y_pred==val_y))"
      ],
      "execution_count": 87,
      "outputs": [
        {
          "output_type": "stream",
          "text": [
            "Val accuracy =  0.38\n"
          ],
          "name": "stdout"
        }
      ]
    }
  ]
}